{
  "nbformat": 4,
  "nbformat_minor": 0,
  "metadata": {
    "colab": {
      "provenance": [],
      "authorship_tag": "ABX9TyOkSvF9XaWtU/t56mewc3hr",
      "include_colab_link": true
    },
    "kernelspec": {
      "name": "python3",
      "display_name": "Python 3"
    },
    "language_info": {
      "name": "python"
    }
  },
  "cells": [
    {
      "cell_type": "markdown",
      "metadata": {
        "id": "view-in-github",
        "colab_type": "text"
      },
      "source": [
        "<a href=\"https://colab.research.google.com/github/rvkushnir/project_fifa_players/blob/main/notebooks/05_business_analytics_block.ipynb\" target=\"_parent\"><img src=\"https://colab.research.google.com/assets/colab-badge.svg\" alt=\"Open In Colab\"/></a>"
      ]
    },
    {
      "cell_type": "markdown",
      "source": [
        "Бізнес аналітика для кого може бути цікавий цей датасет та інсайти з нього:\n",
        "\n",
        "1) Ком’юніті EA FC / Career Mode / FUT\n",
        "\n",
        "Для кого: гравці, стрімери, фан-спільноти.\n",
        "Що даємо:\n",
        "\n",
        "Інтерактивні шортлисти: «Underrated XI», «Young Gems», «Best XI за пенальті/стандарти», «Найшвидші фланги».\n",
        "\n",
        "Оптимізатор складу (наш Starting XI з гнучкими позиціями) під стиль гри: пресинг/контратака → підбір за pace/dribbling/passing.\n",
        "\n",
        "Рольові метрики (PTS, GPS) + віджети «Penalty Edge» для клубів.\n",
        "\n",
        "Порівняння ліг/національностей (наші boxplot-и) як контент для кар’єрних історій.\n",
        "\n",
        "Монетизація: рекламістські мережі (AdSense), партнерки магазинів ігор/геймпадів, підтримка Patreon/Boosty/Ko-fi, мерч.\n",
        "Ризики: сильні конкуренти (SoFIFA, Futbin, Futhead) — потрібна диференціація: рольові метрики, оптимізатор складів, «story-віджети», простий UX без спаму.\n",
        "\n",
        "2) Спортивні медіа, матч-центри, беттинг-портали (як контент, не аналітика ставок)\n",
        "\n",
        "Для кого: редакції, live-портали, betting-аутлети (контент-секція).\n",
        "Що даємо:\n",
        "\n",
        "Легкі інтегровані віджети: «Топ пенальтистів клубу/ліги», «Дриблери ліги», «Середній вік по позиціях».\n",
        "\n",
        "Матчеві прев’ю-факти: «у Club A сильніші пенальтисти за GK суперника» (наш Task13).\n",
        "\n",
        "SEO-контент: league/team/player-сторінки з оновлюваними таблицями.\n",
        "\n",
        "Монетизація: CPM/CPV від показів, аффіліатні лінки (з повним disclosure і обмеженнями за віком/юрисдикцією), спонсорські інтеграції.\n",
        "Важливо: не позиціонувати це як ставкову аналітику — це ентертейнмент/інфографіка, не поради до ставок.\n",
        "\n",
        "3) Еспортивні клуби/академії контенту\n",
        "\n",
        "Для кого: команди/стрімерські колективи, що роблять контент по EA FC.\n",
        "Що даємо: кастомні сторінки/дашборди під їхній бренд, спільні колаборації (щотижневі підбірки, “community XI”).\n"
      ],
      "metadata": {
        "id": "7vNs2hcFypn6"
      }
    }
  ]
}