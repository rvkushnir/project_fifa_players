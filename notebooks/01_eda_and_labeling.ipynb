{
  "nbformat": 4,
  "nbformat_minor": 0,
  "metadata": {
    "colab": {
      "provenance": [],
      "authorship_tag": "ABX9TyNTt2LM0mA3NBBsrRaKDxsy",
      "include_colab_link": true
    },
    "kernelspec": {
      "name": "python3",
      "display_name": "Python 3"
    },
    "language_info": {
      "name": "python"
    }
  },
  "cells": [
    {
      "cell_type": "markdown",
      "metadata": {
        "id": "view-in-github",
        "colab_type": "text"
      },
      "source": [
        "<a href=\"https://colab.research.google.com/github/rvkushnir/project_fifa_players/blob/main/notebooks/01_eda_and_labeling.ipynb\" target=\"_parent\"><img src=\"https://colab.research.google.com/assets/colab-badge.svg\" alt=\"Open In Colab\"/></a>"
      ]
    },
    {
      "cell_type": "markdown",
      "source": [
        "**Ініціалізація середовища**\n",
        "\n",
        "Клонуємо репозиторій з GitHub у /content, переходимо в корінь проєкту.\n",
        "Це гарантує однакові шляхи для даних/виводів у всіх сесіях Colab.\n",
        "Після клонування перевіряємо наявність data/raw/fifa_players.csv.\n",
        "Вихід: робочий каталог → pwd = /content/project_fifa_players."
      ],
      "metadata": {
        "id": "jGpOtn0YVbo-"
      }
    },
    {
      "cell_type": "code",
      "source": [
        "#  Ініціалізація середовища: клон репозиторію і перехід у робочу теку\n",
        "REPO = \"rvkushnir/project_fifa_players\"\n",
        "BRANCH = \"main\"\n",
        "WORKDIR = \"/content/project_fifa_players\"\n",
        "\n",
        "# чистий клон\n",
        "!rm -rf \"$WORKDIR\"\n",
        "!git clone --depth 1 -b \"$BRANCH\" \"https://github.com/{REPO}.git\" \"$WORKDIR\"\n",
        "%cd \"$WORKDIR\"\n",
        "\n",
        "# Якщо у репо використовується Git LFS (великі файли) — підтягнемо дані\n",
        "!git lfs install 2>/dev/null || true\n",
        "!git lfs pull 2>/dev/null || true\n",
        "\n",
        "# Перевіримо, що CSV на місці\n",
        "!ls -lah data/raw\n"
      ],
      "metadata": {
        "colab": {
          "base_uri": "https://localhost:8080/"
        },
        "id": "NUc_e8F4UIVJ",
        "outputId": "98529728-7e01-423c-f0b7-d576f09975f5"
      },
      "execution_count": 1,
      "outputs": [
        {
          "output_type": "stream",
          "name": "stdout",
          "text": [
            "Cloning into '/content/project_fifa_players'...\n",
            "remote: Enumerating objects: 69, done.\u001b[K\n",
            "remote: Counting objects: 100% (69/69), done.\u001b[K\n",
            "remote: Compressing objects: 100% (59/59), done.\u001b[K\n",
            "remote: Total 69 (delta 6), reused 56 (delta 4), pack-reused 0 (from 0)\u001b[K\n",
            "Receiving objects: 100% (69/69), 6.24 MiB | 7.66 MiB/s, done.\n",
            "Resolving deltas: 100% (6/6), done.\n",
            "/content/project_fifa_players\n",
            "Updated git hooks.\n",
            "Git LFS initialized.\n",
            "total 11M\n",
            "drwxr-xr-x 2 root root 4.0K Sep 16 17:28 .\n",
            "drwxr-xr-x 4 root root 4.0K Sep 16 17:28 ..\n",
            "-rw-r--r-- 1 root root  11M Sep 16 17:28 fifa_players.csv\n",
            "-rw-r--r-- 1 root root   61 Sep 16 17:28 README.md\n"
          ]
        }
      ]
    },
    {
      "cell_type": "markdown",
      "source": [
        "Мета блоку: зчитати fifa_players.csv, підготувати primary_position, побудувати is_top_value (топ-15%), зберегти кеш Parquet.\n",
        "Вхід: data/raw/fifa_players.csv.\n",
        "Вихід: data/interim/players_clean.parquet, out/tables/summary.json.\n",
        "Ключові рішення: поріг за квантіллю 0.85; пропуски/нульові value відкидаємо."
      ],
      "metadata": {
        "id": "N56JiFiGbfcB"
      }
    },
    {
      "cell_type": "markdown",
      "source": [
        "1. Завантажуємо датасет з гравцями.\n",
        "2. Проводимо базову валідацію та очищення, створюємо primary_positions, обчислюємо топ гравців по квантилю 0.85.\n",
        "3. Зберігаємо швидкий кеш як parquet для прискорення наступних кроків.\n",
        "4. Виводимо стислий начальний аналіз."
      ],
      "metadata": {
        "id": "FDvot5sktzyB"
      }
    },
    {
      "cell_type": "code",
      "execution_count": 2,
      "metadata": {
        "colab": {
          "base_uri": "https://localhost:8080/"
        },
        "id": "UwOlsEM2tgm3",
        "outputId": "3d7495c3-7f9b-4c1c-c6a6-56e2b076925d"
      },
      "outputs": [
        {
          "output_type": "stream",
          "name": "stdout",
          "text": [
            "[INFO] Завантажено: 19,239 × 80\n",
            "[INFO] Колонки (перші 20): ['sofifa_id', 'player_url', 'short_name', 'long_name', 'player_positions', 'overall', 'potential', 'value_eur', 'wage_eur', 'age', 'dob', 'height_cm', 'weight_kg', 'club_position', 'club_team_id', 'club_name', 'league_name', 'league_level', 'club_loaned_from', 'club_joined']\n",
            "\n",
            "[INFO] Квантили вартості (EUR):\n",
            "{\n",
            "  \"0.50\": \"975,000\",\n",
            "  \"0.75\": \"2,000,000\",\n",
            "  \"0.90\": \"5,500,000\",\n",
            "  \"0.95\": \"11,500,000\",\n",
            "  \"0.85\": \"3,300,000\"\n",
            "}\n",
            "[INFO] Поріг топ-15%: 3,300,000 EUR\n",
            "[INFO] Баланс класів: {0: 0.8482, 1: 0.1518}\n",
            "\n",
            "[INFO] Топ-10 ліг за чисельністю:\n",
            "league_name\n",
            "USA Major League Soccer          771\n",
            "Argentina Primera División       727\n",
            "English League Championship      717\n",
            "English Premier League           652\n",
            "Spain Primera Division           633\n",
            "English League One               626\n",
            "Spanish Segunda División         625\n",
            "English League Two               613\n",
            "Japanese J. League Division 1    589\n",
            "French Ligue 1                   577\n",
            "Name: count, dtype: int64\n",
            "\n",
            "[INFO] Топ-10 позицій:\n",
            "primary_position\n",
            "CB     3339\n",
            "ST     2608\n",
            "CM     2173\n",
            "GK     2132\n",
            "CDM    1665\n",
            "LB     1360\n",
            "RB     1346\n",
            "CAM    1151\n",
            "RM     1028\n",
            "LM     1016\n",
            "Name: count, dtype: int64\n",
            "\n",
            "[OK] Збережено кеш: data/interim/players_clean.parquet → 19,165×83\n",
            "\n",
            "===== SUMMARY =====\n",
            "{\n",
            "  \"rows_total\": 19239,\n",
            "  \"rows_clean\": 19165,\n",
            "  \"cols\": 83,\n",
            "  \"value_top_quantile\": 0.85,\n",
            "  \"value_threshold_eur\": 3300000.0,\n",
            "  \"class_balance\": {\n",
            "    \"0\": 0.848224959717241,\n",
            "    \"1\": 0.15177504028275898\n",
            "  }\n",
            "}\n"
          ]
        },
        {
          "output_type": "execute_result",
          "data": {
            "text/plain": [
              "211"
            ]
          },
          "metadata": {},
          "execution_count": 2
        }
      ],
      "source": [
        "import os, re, json\n",
        "from pathlib import Path\n",
        "import numpy as np\n",
        "import pandas as pd\n",
        "\n",
        "#  Налаштування шляху\n",
        "DATA_CSV = Path(\"data/raw/fifa_players.csv\")\n",
        "INTERIM_DIR = Path(\"data/interim\")\n",
        "OUT_DIR = Path(\"out/tables\")\n",
        "INTERIM_DIR.mkdir(parents=True, exist_ok=True)\n",
        "OUT_DIR.mkdir(parents=True, exist_ok=True)\n",
        "\n",
        "CACHE_TO_PARQUET = True                          # вкл/викл кеш Parquet\n",
        "PARQUET_PATH = INTERIM_DIR / \"players_clean.parquet\"\n",
        "VALUE_TOP_Q = 0.85                               # топ-15% за ціною\n",
        "\n",
        "#  Допоміжні функції\n",
        "def make_primary_position(s: pd.Series) -> pd.Series:\n",
        "    # Беремо перше значення з player_positions як primary\n",
        "    return s.astype(str).str.split(\",\", n=1, expand=True)[0].str.strip()\n",
        "\n",
        "def parse_money_to_eur(x):\n",
        "    # парсер\n",
        "    if pd.isna(x):\n",
        "        return np.nan\n",
        "    if isinstance(x, (int, float)):\n",
        "        return float(x)\n",
        "    s = str(x).strip().replace(\"€\",\"\").replace(\"$\",\"\").replace(\"£\",\"\").replace(\" \",\"\").replace(\",\",\"\")\n",
        "    m = re.match(r\"^([0-9]*\\.?[0-9]+)([MKmk])?$\", s)\n",
        "    if m:\n",
        "        val = float(m.group(1))\n",
        "        suf = m.group(2)\n",
        "        if suf:\n",
        "            if suf.upper()==\"M\": val *= 1_000_000\n",
        "            if suf.upper()==\"K\": val *= 1_000\n",
        "        return val\n",
        "    if re.match(r\"^[0-9]+(\\.[0-9]+)?$\", s):\n",
        "        return float(s)\n",
        "    return np.nan\n",
        "\n",
        "#  Завантаження CSV\n",
        "if not DATA_CSV.exists():\n",
        "    raise FileNotFoundError(f\"Не знайдено файл: {DATA_CSV.resolve()}\")\n",
        "\n",
        "df = pd.read_csv(DATA_CSV, low_memory=False)\n",
        "print(f\"[INFO] Завантажено: {df.shape[0]:,} × {df.shape[1]:,}\")\n",
        "print(\"[INFO] Колонки (перші 20):\", list(df.columns[:20]))\n",
        "\n",
        "#  Базова підготовка\n",
        "# Вартість у EUR\n",
        "value_col = \"value_eur\" if \"value_eur\" in df.columns else None\n",
        "if value_col is None:\n",
        "    raise ValueError(\"Не знайдено стовпця з вартістю (value_eur).\")\n",
        "\n",
        "# привід числових колонок до типу float/int, щоб уникати рядкових значень\n",
        "for col in [\"overall\", \"potential\", \"wage_eur\", \"height_cm\", \"weight_kg\"]:\n",
        "    if col in df.columns:\n",
        "        df[col] = pd.to_numeric(df[col], errors=\"coerce\")\n",
        "\n",
        "df[\"_value_eur\"] = df[value_col].apply(parse_money_to_eur)\n",
        "\n",
        "# primary_position\n",
        "if \"player_positions\" not in df.columns:\n",
        "    raise ValueError(\"Не знайдено стовпця player_positions.\")\n",
        "df[\"primary_position\"] = make_primary_position(df[\"player_positions\"])\n",
        "\n",
        "# Ціль: топ-15% за вартістю\n",
        "value_threshold = df[\"_value_eur\"].quantile(VALUE_TOP_Q)\n",
        "df[\"is_top_value\"] = (df[\"_value_eur\"] >= value_threshold).astype(int)\n",
        "\n",
        "#  Легка діагностика\n",
        "quant_series = df[\"_value_eur\"].quantile([0.5,0.75,0.9,0.95,VALUE_TOP_Q])\n",
        "quant_fmt = {f\"{q:.2f}\": f\"{v:,.0f}\" for q, v in quant_series.to_dict().items()}\n",
        "class_balance = df[\"is_top_value\"].value_counts(normalize=True).to_dict()\n",
        "\n",
        "print(\"\\n[INFO] Квантили вартості (EUR):\")\n",
        "print(json.dumps(quant_fmt, ensure_ascii=False, indent=2))\n",
        "print(f\"[INFO] Поріг топ-15%: {value_threshold:,.0f} EUR\")\n",
        "print(\"[INFO] Баланс класів:\", {int(k): round(v,4) for k,v in class_balance.items()})\n",
        "\n",
        "if \"league_name\" in df.columns:\n",
        "    top_leagues = df[\"league_name\"].value_counts().head(10)\n",
        "    print(\"\\n[INFO] Топ-10 ліг за чисельністю:\")\n",
        "    print(top_leagues)\n",
        "\n",
        "if \"primary_position\" in df.columns:\n",
        "    top_pos = df[\"primary_position\"].value_counts().head(10)\n",
        "    print(\"\\n[INFO] Топ-10 позицій:\")\n",
        "    print(top_pos)\n",
        "\n",
        "#  Фільтрація явних пропусків/нульових вартостей\n",
        "df_clean = df[df[\"_value_eur\"].notna() & (df[\"_value_eur\"] > 0)].copy()\n",
        "\n",
        "#  Кеш у Parquet\n",
        "if CACHE_TO_PARQUET:\n",
        "    df_clean.to_parquet(PARQUET_PATH, index=False)\n",
        "    print(f\"\\n[OK] Збережено кеш: {PARQUET_PATH} → {df_clean.shape[0]:,}×{df_clean.shape[1]:,}\")\n",
        "\n",
        "#  Міні-SUMMARY для наступних кроків\n",
        "summary = {\n",
        "    \"rows_total\": int(df.shape[0]),\n",
        "    \"rows_clean\": int(df_clean.shape[0]),\n",
        "    \"cols\": int(df.shape[1]),\n",
        "    \"value_top_quantile\": float(VALUE_TOP_Q),\n",
        "    \"value_threshold_eur\": float(value_threshold),\n",
        "    \"class_balance\": {int(k): float(v) for k,v in class_balance.items()}\n",
        "}\n",
        "print(\"\\n===== SUMMARY =====\")\n",
        "print(json.dumps(summary, ensure_ascii=False, indent=2))\n",
        "\n",
        "# збереження summary у файл для зручності перевірки/звіту\n",
        "(Path(OUT_DIR) / \"summary.json\").write_text(json.dumps(summary, ensure_ascii=False, indent=2))\n"
      ]
    }
  ]
}